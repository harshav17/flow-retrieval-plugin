{
 "cells": [
  {
   "cell_type": "code",
   "execution_count": 2,
   "metadata": {},
   "outputs": [],
   "source": [
    "import weaviate\n",
    "import json\n",
    "client = weaviate.Client(\n",
    "    url = \"http://localhost:8080/\",  # Replace with your endpoint\n",
    "    additional_headers = {\n",
    "        \"X-OpenAI-Api-Key\": \"\"  # Replace with your API key\n",
    "    }\n",
    ")"
   ]
  },
  {
   "cell_type": "code",
   "execution_count": 5,
   "metadata": {},
   "outputs": [
    {
     "name": "stderr",
     "output_type": "stream",
     "text": [
      "/Users/harsha/.pyenv/versions/3.10.11/lib/python3.10/site-packages/weaviate/batch/crud_batch.py:1039: RuntimeWarning: The BatchExecutor was shutdown, most probably when it exited the `with` statement. It will be initialized again. If you are not `batch` in the `with client.batch as batch` please make sure to shut it down when done importing data: `client.batch.shutdown()`. You can start it again using the `client.batch.start()` method.\n",
      "  warnings.warn(\n"
     ]
    }
   ],
   "source": [
    "# ===== import data =====\n",
    "# Load local JSON file\n",
    "with open('flows.json') as f:\n",
    "    flows = json.load(f)\n",
    "\n",
    "# Prepare a batch process\n",
    "with client.batch as batch:\n",
    "    batch.batch_size=100\n",
    "    # Batch import all Questions\n",
    "    for i, d in enumerate(flows):\n",
    "        # print(f\"importing question: {i+1}\")  # To see imports\n",
    "\n",
    "        properties = {\n",
    "            \"description\": d[\"description\"],\n",
    "            \"flow\": d[\"flow\"],\n",
    "            \"source\": d[\"source\"],\n",
    "            \"source_id\": d[\"source_id\"],\n",
    "            \"url\": d[\"url\"],\n",
    "            \"created_at\": d[\"created_at\"],\n",
    "            \"author\": d[\"author\"],\n",
    "        }\n",
    "\n",
    "        client.batch.add_data_object(properties, \"Flow\")\n",
    "client.batch.flush()"
   ]
  }
 ],
 "metadata": {
  "kernelspec": {
   "display_name": "Python 3",
   "language": "python",
   "name": "python3"
  },
  "language_info": {
   "codemirror_mode": {
    "name": "ipython",
    "version": 3
   },
   "file_extension": ".py",
   "mimetype": "text/x-python",
   "name": "python",
   "nbconvert_exporter": "python",
   "pygments_lexer": "ipython3",
   "version": "3.10.11"
  },
  "orig_nbformat": 4
 },
 "nbformat": 4,
 "nbformat_minor": 2
}
