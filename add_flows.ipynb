{
 "cells": [
  {
   "cell_type": "code",
   "execution_count": 7,
   "metadata": {},
   "outputs": [
    {
     "name": "stdout",
     "output_type": "stream",
     "text": [
      "Collecting weaviate-client\n",
      "  Downloading weaviate_client-3.18.0-py3-none-any.whl (95 kB)\n",
      "\u001b[2K     \u001b[90m━━━━━━━━━━━━━━━━━━━━━━━━━━━━━━━━━━━━━━━\u001b[0m \u001b[32m95.6/95.6 kB\u001b[0m \u001b[31m988.2 kB/s\u001b[0m eta \u001b[36m0:00:00\u001b[0ma \u001b[36m0:00:01\u001b[0m\n",
      "\u001b[?25hCollecting requests<2.29.0,>=2.28.0\n",
      "  Using cached requests-2.28.2-py3-none-any.whl (62 kB)\n",
      "Collecting validators<=0.21.0,>=0.18.2\n",
      "  Downloading validators-0.20.0.tar.gz (30 kB)\n",
      "  Preparing metadata (setup.py) ... \u001b[?25ldone\n",
      "\u001b[?25hCollecting tqdm<5.0.0,>=4.59.0\n",
      "  Downloading tqdm-4.65.0-py3-none-any.whl (77 kB)\n",
      "\u001b[2K     \u001b[90m━━━━━━━━━━━━━━━━━━━━━━━━━━━━━━━━━━━━━━━━\u001b[0m \u001b[32m77.1/77.1 kB\u001b[0m \u001b[31m3.9 MB/s\u001b[0m eta \u001b[36m0:00:00\u001b[0m\n",
      "\u001b[?25hCollecting authlib>=1.1.0\n",
      "  Downloading Authlib-1.2.0-py2.py3-none-any.whl (214 kB)\n",
      "\u001b[2K     \u001b[90m━━━━━━━━━━━━━━━━━━━━━━━━━━━━━━━━━━━━━━━\u001b[0m \u001b[32m214.8/214.8 kB\u001b[0m \u001b[31m7.7 MB/s\u001b[0m eta \u001b[36m0:00:00\u001b[0m\n",
      "\u001b[?25hCollecting cryptography>=3.2\n",
      "  Downloading cryptography-40.0.2-cp36-abi3-macosx_10_12_universal2.whl (5.1 MB)\n",
      "\u001b[2K     \u001b[90m━━━━━━━━━━━━━━━━━━━━━━━━━━━━━━━━━━━━━━━━\u001b[0m \u001b[32m5.1/5.1 MB\u001b[0m \u001b[31m51.6 MB/s\u001b[0m eta \u001b[36m0:00:00\u001b[0ma \u001b[36m0:00:01\u001b[0m\n",
      "\u001b[?25hCollecting charset-normalizer<4,>=2\n",
      "  Using cached charset_normalizer-3.1.0-cp310-cp310-macosx_11_0_arm64.whl (123 kB)\n",
      "Collecting urllib3<1.27,>=1.21.1\n",
      "  Using cached urllib3-1.26.15-py2.py3-none-any.whl (140 kB)\n",
      "Collecting certifi>=2017.4.17\n",
      "  Using cached certifi-2023.5.7-py3-none-any.whl (156 kB)\n",
      "Collecting idna<4,>=2.5\n",
      "  Using cached idna-3.4-py3-none-any.whl (61 kB)\n",
      "Requirement already satisfied: decorator>=3.4.0 in /Users/hlingampally/Library/Python/3.10/lib/python/site-packages (from validators<=0.21.0,>=0.18.2->weaviate-client) (5.1.1)\n",
      "Collecting cffi>=1.12\n",
      "  Using cached cffi-1.15.1-cp310-cp310-macosx_11_0_arm64.whl (174 kB)\n",
      "Collecting pycparser\n",
      "  Using cached pycparser-2.21-py2.py3-none-any.whl (118 kB)\n",
      "Building wheels for collected packages: validators\n",
      "  Building wheel for validators (setup.py) ... \u001b[?25ldone\n",
      "\u001b[?25h  Created wheel for validators: filename=validators-0.20.0-py3-none-any.whl size=19581 sha256=15071ffb5d5aa00174a0ec6111036180542f49144880af27b2d4cfd158f164a5\n",
      "  Stored in directory: /Users/hlingampally/Library/Caches/pip/wheels/2d/55/25/123071088f4e466746cbadc923b1a31e08cea99ea9ef6bb35e\n",
      "Successfully built validators\n",
      "Installing collected packages: validators, urllib3, tqdm, pycparser, idna, charset-normalizer, certifi, requests, cffi, cryptography, authlib, weaviate-client\n",
      "Successfully installed authlib-1.2.0 certifi-2023.5.7 cffi-1.15.1 charset-normalizer-3.1.0 cryptography-40.0.2 idna-3.4 pycparser-2.21 requests-2.28.2 tqdm-4.65.0 urllib3-1.26.15 validators-0.20.0 weaviate-client-3.18.0\n",
      "\n",
      "\u001b[1m[\u001b[0m\u001b[34;49mnotice\u001b[0m\u001b[1;39;49m]\u001b[0m\u001b[39;49m A new release of pip available: \u001b[0m\u001b[31;49m22.3.1\u001b[0m\u001b[39;49m -> \u001b[0m\u001b[32;49m23.1.2\u001b[0m\n",
      "\u001b[1m[\u001b[0m\u001b[34;49mnotice\u001b[0m\u001b[1;39;49m]\u001b[0m\u001b[39;49m To update, run: \u001b[0m\u001b[32;49mpython3.10 -m pip install --upgrade pip\u001b[0m\n"
     ]
    }
   ],
   "source": [
    "!pip3 install weaviate-client"
   ]
  },
  {
   "cell_type": "code",
   "execution_count": 8,
   "metadata": {},
   "outputs": [],
   "source": [
    "import weaviate\n",
    "import json\n",
    "client = weaviate.Client(\n",
    "    url = \"http://localhost:8080/\",  # Replace with your endpoint\n",
    "    additional_headers = {\n",
    "        \"X-OpenAI-Api-Key\": \"\"  # Replace with your API key\n",
    "    }\n",
    ")"
   ]
  },
  {
   "cell_type": "code",
   "execution_count": 18,
   "metadata": {},
   "outputs": [],
   "source": [
    "# ===== import data =====\n",
    "# Load local JSON file\n",
    "with open('flows.json') as f:\n",
    "    flows = json.load(f)\n",
    "\n",
    "# Prepare a batch process\n",
    "with client.batch as batch:\n",
    "    batch.batch_size=100\n",
    "    # Batch import all Questions\n",
    "    for i, d in enumerate(flows):\n",
    "        # print(f\"importing question: {i+1}\")  # To see imports\n",
    "\n",
    "        properties = {\n",
    "            \"description\": d[\"description\"],\n",
    "            \"flow\": d[\"flow\"],\n",
    "            \"source\": d[\"source\"],\n",
    "            \"source_id\": d[\"source_id\"],\n",
    "            \"url\": d[\"url\"],\n",
    "            \"created_at\": d[\"created_at\"],\n",
    "            \"author\": d[\"author\"],\n",
    "        }\n",
    "\n",
    "        client.batch.add_data_object(properties, \"Flow\")\n",
    "client.batch.flush()"
   ]
  },
  {
   "attachments": {},
   "cell_type": "markdown",
   "metadata": {},
   "source": [
    "To get all flows"
   ]
  },
  {
   "cell_type": "code",
   "execution_count": 19,
   "metadata": {},
   "outputs": [
    {
     "name": "stdout",
     "output_type": "stream",
     "text": [
      "{'deprecations': [], 'objects': [{'class': 'Flow', 'creationTimeUnix': 1683755281008, 'id': '071605ec-6d7d-49d5-ae80-c9e8efb83da9', 'lastUpdateTimeUnix': 1683755281008, 'properties': {'author': 'Alice', 'created_at': '2021-01-01T12:00:00Z', 'description': 'When a lead is created, make a post to reminder the owner of the lead', 'flow': '{\"Metadata\" : {\"actionCalls\" : [ {\"actionName\" : \"chatterPost\",\"actionType\" : \"chatterPost\",\"description\" : \"make a post to owner of the lead\",\"flowTransactionModel\" : \"CurrentTransaction\",\"inputParameters\" : [ {\"name\" : \"text\",\"value\" : {\"stringValue\" : \"Hey! You have a new Lead - {!$Record.LastName}. Remember to follow up!\"}}, {\"name\" : \"subjectNameOrId\",\"value\" : {\"elementReference\" : \"$Record.OwnerId\"}} ],\"label\" : \"Post to chatter\",\"locationX\" : 176,\"locationY\" : 323,\"name\" : \"Post_to_chatter\",\"nameSegment\" : \"chatterPost\",\"storeOutputAutomatically\" : true,\"versionSegment\" : 1} ],\"apiVersion\" : 58.0,\"description\" : \"make a post to owner of new lead\",\"environments\" : [ \"Default\" ],\"interviewLabel\" : \"Post to owner\\'s chatter if a lead is created {!$Flow.CurrentDateTime}\",\"isAdditionalPermissionRequiredToRun\" : null,\"isOverridable\" : null,\"isTemplate\" : null,\"label\" : \"post to chatter when a lead is created\",\"processMetadataValues\" : [ {\"name\" : \"CanvasMode\",\"value\" : {\"stringValue\" : \"AUTO_LAYOUT_CANVAS\"}}],\"processType\" : \"AutoLaunchedFlow\",\"start\" : {\"connector\" : {\"targetReference\" : \"Post_to_chatter\"},\"locationX\" : 50,\"locationY\" : 0,\"object\" : \"Lead\",\"recordTriggerType\" : \"Create\",\"triggerType\" : \"RecordAfterSave\"},\"status\" : \"Active\"},\"FullName\" : \"post_to_chatter_when_a_lead_is_created\"}', 'source': 'file', 'source_id': 'https://example.com/doc1', 'url': 'https://example.com/doc1'}, 'vectorWeights': None}, {'class': 'Flow', 'creationTimeUnix': 1683755281008, 'id': '4b6c71ce-d5a4-421d-9677-bd47ea99b633', 'lastUpdateTimeUnix': 1683755281008, 'properties': {'author': 'Alice', 'created_at': '2021-01-01T12:00:00Z', 'description': 'Send an email if a lead is created or updated and num of employees is over 100', 'flow': '{\"Metadata\" : {\"actionCalls\" : [ {\"actionName\" : \"emailSimple\",\"actionType\" : \"emailSimple\",\"flowTransactionModel\" : \"CurrentTransaction\",\"inputParameters\" : [ {\"name\" : \"emailAddresses\",\"value\" : {\"elementReference\" : \"$Record.Email\"}}, {\"name\" : \"emailSubject\",\"value\" : {\"stringValue\" : \"Hello from {!$Organization.Name}\"}}, {\"name\" : \"emailBody\",\"value\" : {\"stringValue\" : \"Hello {!$Record.LastName}!\"}} ],\"label\" : \"send email\",\"locationX\" : 50,\"locationY\" : 431,\"name\" : \"send_email\",\"nameSegment\" : \"emailSimple\",\"versionSegment\" : 1} ],\"apiVersion\" : 58.0,\"decisions\" : [ {\"defaultConnector\" : null,\"defaultConnectorLabel\" : \"Default Outcome\",\"description\" : \"Only send out the email when lead has one email address\",\"elementSubtype\" : null,\"label\" : \"If Lead has an email address\",\"locationX\" : 182,\"locationY\" : 323,\"name\" : \"If_Lead_has_an_email_address\",\"rules\" : [ {\"conditionLogic\" : \"and\",\"conditions\" : [ {\"leftValueReference\" : \"$Record.Email\",\"operator\" : \"IsNull\",\"rightValue\" : {\"booleanValue\" : false}} ],\"connector\" : {\"targetReference\" : \"send_email\"},\"label\" : \"Yes\",\"name\" : \"Yes\"} ]} ],\"description\" : \"If lead has over 100 employees and there is an email address, send out an email\",\"environments\" : [ \"Default\" ],\"interviewLabel\" : \"Send an email if lead has over 100 employees {!$Flow.CurrentDateTime}\",\"label\" : \"Send an email if lead has over 100 employees\",\"processMetadataValues\" : [ {\"name\" : \"CanvasMode\",\"value\" : {\"stringValue\" : \"AUTO_LAYOUT_CANVAS\"}} ],\"processType\" : \"AutoLaunchedFlow\",\"start\" : {\"connector\" : {\"targetReference\" : \"If_Lead_has_an_email_address\"},\"doesRequireRecordChangedToMeetCriteria\" : true,\"filterLogic\" : \"or\",\"filters\" : [ {\"field\" : \"NumberOfEmployees\",\"operator\" : \"GreaterThan\",\"value\" : {\"numberValue\" : 100.0}} ],\"locationX\" : 56,\"locationY\" : 0,\"object\" : \"Lead\",\"recordTriggerType\" : \"CreateAndUpdate\",\"triggerType\" : \"RecordAfterSave\"},\"status\" : \"Active\"},\"FullName\" : \"Send_an_email_if_lead_has_over_100_employees\"}', 'source': 'file', 'source_id': 'https://example.com/doc1', 'url': 'https://example.com/doc1'}, 'vectorWeights': None}, {'class': 'Flow', 'creationTimeUnix': 1683755281008, 'id': '79e41d86-f638-430f-9a27-bfd1d2ab6adb', 'lastUpdateTimeUnix': 1683755281008, 'properties': {'author': 'Alice', 'created_at': '2021-01-01T12:00:00Z', 'description': 'Send an email if a lead is created and email field is not null', 'flow': '{\"Metadata\" : {\"actionCalls\" : [ {\"actionName\" : \"emailSimple\",\"actionType\" : \"emailSimple\",\"flowTransactionModel\" : \"CurrentTransaction\",\"inputParameters\" : [ {\"name\" : \"emailAddresses\",\"value\" : {\"elementReference\" : \"$Record.Email\"}}, {\"name\" : \"emailSubject\",\"value\" : {\"stringValue\" : \"Hello from {!$Organization.Name}\"}}, {\"name\" : \"emailBody\",\"value\" : {\"stringValue\" : \"Hey, {!$Record.LastName}! Thank you for your interest. We would love to follow up with this opportunity.\"}} ],\"label\" : \"Send an email to new lead\",\"locationX\" : 176,\"locationY\" : 323,\"name\" : \"Send_an_email_to_new_lead\",\"nameSegment\" : \"emailSimple\",\"versionSegment\" : 1} ],\"apiVersion\" : 58.0,\"description\" : \"If a lead is created and email field is not null, we will send an email.\",\"environments\" : [ \"Default\" ],\"interviewLabel\" : \"Send a welcome email to new lead {!$Flow.CurrentDateTime}\",\"isAdditionalPermissionRequiredToRun\" : null,\"isOverridable\" : null,\"isTemplate\" : null,\"label\" : \"Send a welcome email to new lead\",\"processMetadataValues\" : [ {\"name\" : \"CanvasMode\",\"value\" : {\"stringValue\" : \"AUTO_LAYOUT_CANVAS\"}}],\"processType\" : \"AutoLaunchedFlow\",\"start\" : {\"connector\" : {\"targetReference\" : \"Send_an_email_to_new_lead\"},\"filterLogic\" : \"or\",\"filters\" : [ {\"field\" : \"Email\",\"operator\" : \"IsNull\",\"value\" : {\"booleanValue\" : false}} ],\"locationX\" : 50,\"locationY\" : 0,\"object\" : \"Lead\",\"recordTriggerType\" : \"Create\",\"triggerType\" : \"RecordAfterSave\"},\"status\" : \"Active\"},\"FullName\" : \"Send_a_welcome_email_to_new_lead\"}', 'source': 'file', 'source_id': 'https://example.com/doc1', 'url': 'https://example.com/doc1'}, 'vectorWeights': None}, {'class': 'Flow', 'creationTimeUnix': 1683755281008, 'id': '89a2fa53-95dd-4476-b5f3-a8e641885f12', 'lastUpdateTimeUnix': 1683755281008, 'properties': {'author': 'Alice', 'created_at': '2021-01-01T12:00:00Z', 'description': 'Create a task for user when a lead is created', 'flow': '{ \"Metadata\": { \"actionCalls\": [ { \"actionName\": \"NewTask\", \"actionType\": \"quickAction\", \"flowTransactionModel\": \"CurrentTransaction\", \"inputParameters\": [ { \"name\": \"contextId\", \"value\": { \"elementReference\": \"$Record.Id\" } }, { \"name\": \"Subject\", \"value\": { \"stringValue\": \"Follow Up with {!$Record.LastName}\" } }, { \"name\": \"ActivityDate\", \"value\": null }, { \"name\": \"OwnerId\", \"value\": { \"elementReference\": \"$Record.OwnerId\" } } ], \"label\": \"Create a Task\", \"locationX\": 176, \"locationY\": 323, \"name\": \"Create_a_Task\", \"nameSegment\": \"NewTask\", \"versionSegment\": 1 } ], \"apiVersion\": 58.0, \"environments\": [\"Default\"], \"interviewLabel\": \"Auto Task When Lead is Created {!$Flow.CurrentDateTime}\", \"isAdditionalPermissionRequiredToRun\": null, \"isOverridable\": null, \"isTemplate\": null, \"label\": \"Auto Task When Lead is Created\",\"processMetadataValues\" : [ {\"name\" : \"CanvasMode\",\"value\" : {\"stringValue\" : \"AUTO_LAYOUT_CANVAS\"}}], \"processType\": \"AutoLaunchedFlow\", \"start\": { \"connector\": { \"targetReference\": \"Create_a_Task\" }, \"locationX\": 50, \"locationY\": 0, \"object\": \"Lead\", \"recordTriggerType\": \"Create\", \"triggerType\": \"RecordAfterSave\" }, \"status\": \"Active\" }, \"FullName\": \"Auto_Task_When_Lead_is_Created\" }', 'source': 'file', 'source_id': 'https://example.com/doc1', 'url': 'https://example.com/doc1'}, 'vectorWeights': None}], 'totalResults': 4}\n"
     ]
    }
   ],
   "source": [
    "all_objects = client.data_object.get(class_name=\"Flow\")\n",
    "print(all_objects)"
   ]
  },
  {
   "attachments": {},
   "cell_type": "markdown",
   "metadata": {},
   "source": [
    "TO delete flows"
   ]
  },
  {
   "cell_type": "code",
   "execution_count": 17,
   "metadata": {},
   "outputs": [],
   "source": [
    "client.data_object.delete(\n",
    "  \"357f9348-3e38-442b-9770-633b8d0808f1\",\n",
    "  class_name=\"Flow\",\n",
    "  consistency_level=weaviate.data.replication.ConsistencyLevel.ALL,  # default QUORUM\n",
    ")"
   ]
  }
 ],
 "metadata": {
  "kernelspec": {
   "display_name": "Python 3",
   "language": "python",
   "name": "python3"
  },
  "language_info": {
   "codemirror_mode": {
    "name": "ipython",
    "version": 3
   },
   "file_extension": ".py",
   "mimetype": "text/x-python",
   "name": "python",
   "nbconvert_exporter": "python",
   "pygments_lexer": "ipython3",
   "version": "3.10.9"
  },
  "orig_nbformat": 4
 },
 "nbformat": 4,
 "nbformat_minor": 2
}
